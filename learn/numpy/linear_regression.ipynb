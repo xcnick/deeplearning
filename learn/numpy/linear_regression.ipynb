{
 "metadata": {
  "language_info": {
   "codemirror_mode": {
    "name": "ipython",
    "version": 3
   },
   "file_extension": ".py",
   "mimetype": "text/x-python",
   "name": "python",
   "nbconvert_exporter": "python",
   "pygments_lexer": "ipython3",
   "version": "3.7.6-final"
  },
  "orig_nbformat": 2,
  "kernelspec": {
   "name": "python3",
   "display_name": "Python 3.7.6 64-bit ('chi': conda)",
   "metadata": {
    "interpreter": {
     "hash": "bcddf49f22012319decda280d7da64617687d90f49c322f72f8a02c38b273ed2"
    }
   }
  }
 },
 "nbformat": 4,
 "nbformat_minor": 2,
 "cells": [
  {
   "cell_type": "code",
   "execution_count": null,
   "source": [
    "import numpy as np\n",
    "\n",
    "def initialize_parameters(dim):\n",
    "    w = np.random.randn(dim, 1)\n",
    "    b = 0\n",
    "    return w, b\n",
    "\n",
    "def forward(w, b, x):\n",
    "    y_hat = np.dot(x, w) + b\n",
    "    return y_hat\n",
    "\n",
    "def backward(x, y, y_hat):\n",
    "    dz = y_hat - y\n",
    "    dw = np.dot(x.T, dz) / x.shape[0]\n",
    "    db = np.mean(dz)\n",
    "\n",
    "    return dw, db\n",
    "\n",
    "def loss(y, y_hat):\n",
    "    return np.mean(np.sum(np.square(y_hat - y), axis=-1))\n",
    "\n",
    "def update(w, b, dw, db, lr):   \n",
    "    w = w - lr * dw\n",
    "    b = b - lr * db\n",
    "    return w, b\n",
    "\n",
    "def train(w, b, x, y, epochs, lr):    \n",
    "    for i in range(epochs):\n",
    "        y_hat = forward(w, b, x)\n",
    "        dw, db = backward(x, y, y_hat)\n",
    "        w, b = update(w, b, dw, db, lr)\n",
    "        cost = loss(y, y_hat)\n",
    "        if i % 10 == 0:\n",
    "            print(f\"iter {i}, cost {cost}\")\n",
    "    return cost, w, b\n",
    "\n",
    "dim = 5\n",
    "N = 100\n",
    "\n",
    "# X = [N, dim] Y = [N, 1]\n",
    "# W = [dim, 1]\n",
    "\n",
    "x = np.random.randn(N, dim)\n",
    "W = np.array([[1.2, 4.3, 4.1, 5.2, 1.2]], dtype=np.float).T\n",
    "B = np.array([2.5])\n",
    "y = np.dot(x, W) + B\n",
    "\n",
    "w, b = initialize_parameters(dim)\n",
    "\n",
    "loss, w_hat, b_hat = train(w, b, x, y, 200, 0.05)\n",
    "print(w_hat)\n",
    "print(b_hat)"
   ],
   "outputs": [],
   "metadata": {}
  }
 ]
}