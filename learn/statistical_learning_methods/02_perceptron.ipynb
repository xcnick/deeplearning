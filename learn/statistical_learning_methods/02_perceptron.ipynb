{
 "cells": [
  {
   "cell_type": "markdown",
   "metadata": {},
   "source": [
    "# 感知机\n",
    "\n",
    "感知机是二分类的线性分类模型，输入为实例的特征向量，输出为实例的类别，取+1 和-1 两个值。\n",
    "感知机学习旨在求出将数据进行线性划分的分离超平面。包括原始形式和对偶形式。\n",
    "\n",
    "$$\n",
    "f(x)=sign(w \\cdot x + b)\n",
    "$$\n",
    "\n",
    "感知机的学习策略是极小化损失函数\n",
    "\n",
    "$$\n",
    "\\min\\limits_{w, b} L(w, b) = - \\sum\\limits_{x_i \\in M} y_i (w \\cdot x_i + b)\n",
    "$$\n"
   ]
  },
  {
   "cell_type": "code",
   "execution_count": 1,
   "metadata": {},
   "outputs": [
    {
     "data": {
      "text/plain": [
       "<matplotlib.legend.Legend at 0x7fae3ff5c5d0>"
      ]
     },
     "execution_count": 1,
     "metadata": {},
     "output_type": "execute_result"
    },
    {
     "data": {
      "image/png": "[encoded data removed]",
      "text/plain": [
       "<Figure size 432x288 with 1 Axes>"
      ]
     },
     "metadata": {
      "needs_background": "light"
     },
     "output_type": "display_data"
    }
   ],
   "source": [
    "import numpy as np\n",
    "import matplotlib.pyplot as plt\n",
    "\n",
    "dot_num = 100\n",
    "x_p = np.random.normal(3., 1, dot_num)\n",
    "y_p = np.random.normal(6., 1, dot_num)\n",
    "y = np.ones(dot_num)\n",
    "C1 = np.array([x_p, y_p, y]).T\n",
    "\n",
    "x_n = np.random.normal(9., 1, dot_num)\n",
    "y_n = np.random.normal(8., 1, dot_num)\n",
    "y = np.zeros(dot_num) - 1\n",
    "C2 = np.array([x_n, y_n, y]).T\n",
    "\n",
    "plt.scatter(C1[:, 0], C1[:, 1], marker='+', color='b', label='A')\n",
    "plt.scatter(C2[:, 0], C2[:, 1], marker='o', color='g', label='B')\n",
    "plt.legend()"
   ]
  },
  {
   "cell_type": "code",
   "execution_count": 20,
   "metadata": {},
   "outputs": [],
   "source": [
    "data_set = np.concatenate((C1, C2), axis=0)\n",
    "np.random.shuffle(data_set)"
   ]
  },
  {
   "cell_type": "code",
   "execution_count": 32,
   "metadata": {},
   "outputs": [],
   "source": [
    "class Perception():\n",
    "    def __init__(self):\n",
    "        self.weights = None\n",
    "        self.bias = None\n",
    "        self.lr = 0.01\n",
    "    \n",
    "    def sign(self, value):\n",
    "        return 1 if value > 0 else -1\n",
    "\n",
    "    def train(self, data_set, labels):\n",
    "        n = data_set.shape[0]\n",
    "        m = data_set.shape[1]\n",
    "        weights = np.ones(m)\n",
    "        bias = 0\n",
    "        i = 0\n",
    "        while i < n:\n",
    "            if (labels[i] * self.sign(np.dot(weights, data_set[i]) + bias)) <= 0:\n",
    "                weights += self.lr * labels[i] * data_set[i]\n",
    "                bias += self.lr * labels[i]\n",
    "                i = 0\n",
    "            else:\n",
    "                i += 1\n",
    "        self.weights = weights\n",
    "        self.bias = bias\n",
    "\n",
    "    def predict(self, data):\n",
    "        if self.weights is None or self.bias is None:\n",
    "            raise Exception('You must train the model first!')\n",
    "        return self.sign(np.dot(self.weights, data) + self.bias)"
   ]
  },
  {
   "cell_type": "code",
   "execution_count": 33,
   "metadata": {},
   "outputs": [
    {
     "name": "stdout",
     "output_type": "stream",
     "text": [
      "weights is  [-0.21597906  0.00716254]\n",
      "bias is  1.2100000000000009\n"
     ]
    }
   ],
   "source": [
    "perception = Perception()\n",
    "perception.train(data_set[:, :2], data_set[:, 2])\n",
    "print(\"weights is \", perception.weights)\n",
    "print(\"bias is \", perception.bias)"
   ]
  },
  {
   "cell_type": "code",
   "execution_count": 38,
   "metadata": {},
   "outputs": [
    {
     "data": {
      "text/plain": [
       "1.0"
      ]
     },
     "execution_count": 38,
     "metadata": {},
     "output_type": "execute_result"
    }
   ],
   "source": [
    "# 测试验证\n",
    "result = [perception.predict(data) for data in data_set[:, :2]]\n",
    "np.equal(result, data_set[:, 2]).sum() / data_set.shape[0]"
   ]
  }
 ],
 "metadata": {
  "interpreter": {
   "hash": "61839f7db1b217d44ea212fe58a09e6de221471dead234eee5ac733397de118b"
  },
  "kernelspec": {
   "display_name": "Python 3.7.10 64-bit ('base': conda)",
   "language": "python",
   "name": "python3"
  },
  "language_info": {
   "codemirror_mode": {
    "name": "ipython",
    "version": 3
   },
   "file_extension": ".py",
   "mimetype": "text/x-python",
   "name": "python",
   "nbconvert_exporter": "python",
   "pygments_lexer": "ipython3",
   "version": "3.7.10"
  },
  "orig_nbformat": 4
 },
 "nbformat": 4,
 "nbformat_minor": 2
}
