{
 "cells": [
  {
   "cell_type": "markdown",
   "metadata": {},
   "source": [
    "# 朴素贝叶斯\n",
    "\n",
    "朴素贝叶斯是生成学习方法，生成方法由训练数据学习联合概率分布 $P(X,Y)$，再求得后验概率分布 $P(Y|X)$。利用训练数据学习 $P(X|Y)$ 和 $P(Y)$ 的估计，得到联合概率分布\n",
    "\n",
    "$$P(X,Y)=P(X)P(X|Y)$$\n",
    "\n",
    "概率估计方法可使用极大似然估计或贝叶斯估计\n",
    "\n",
    "朴素贝叶斯法的基本假设是条件独立性：\n",
    "\n",
    "$$\n",
    "P(X=x|Y=c_k) = P(X^{(1)}=x^{(1)}, ..., X^{(n)}=x^{(n)}, Y=c_k) \\\\\n",
    "             = \\prod\\limits_{_{j=1}}^n P(X^{(j)}=x^{(j)}, Y=c_k)\n",
    "$$\n",
    "\n",
    "朴素贝叶斯法利用贝叶斯定理与学习到的联合概率模型进行分类预测\n",
    "\n",
    "$$\n",
    "P(Y|X)=\\frac{P(X|Y)P(Y)}{P(X)}=\\frac{P(X|Y)P(Y)}{\\sum\\limits_{Y}{P(Y)P(X|Y)}}\n",
    "$$\n",
    "\n",
    "将输入 x 分到后验概率最大的类 y\n",
    "\n",
    "$$\n",
    "y = \\argmax\\limits_{c_k} P(Y=c_k) \\prod\\limits_{j=1}^n P(X_j=x^{(j)} | Y = c_k)\n",
    "$$"
   ]
  },
  {
   "cell_type": "code",
   "execution_count": 1,
   "metadata": {},
   "outputs": [],
   "source": [
    "import numpy as np\n",
    "import pandas as pd\n",
    "\n",
    "from sklearn.datasets import load_iris\n",
    "from sklearn.model_selection import train_test_split\n",
    "import matplotlib.pyplot as plt\n",
    "from collections import Counter"
   ]
  },
  {
   "cell_type": "code",
   "execution_count": 4,
   "metadata": {},
   "outputs": [],
   "source": [
    "df_iris = load_iris(as_frame=True, return_X_y=True)\n",
    "x = np.array(df_iris[0].iloc[:100])\n",
    "y = np.array(df_iris[1].iloc[:100])\n",
    "\n",
    "x_train, x_test, y_train, y_test = train_test_split(x, y, test_size=0.2, random_state=42)"
   ]
  },
  {
   "cell_type": "code",
   "execution_count": 5,
   "metadata": {},
   "outputs": [
    {
     "data": {
      "text/plain": [
       "(array([6. , 2.7, 5.1, 1.6]), 1)"
      ]
     },
     "execution_count": 5,
     "metadata": {},
     "output_type": "execute_result"
    }
   ],
   "source": [
    "x_test[0], y_test[0]"
   ]
  },
  {
   "cell_type": "code",
   "execution_count": 10,
   "metadata": {},
   "outputs": [
    {
     "data": {
      "text/plain": [
       "1.0"
      ]
     },
     "execution_count": 10,
     "metadata": {},
     "output_type": "execute_result"
    }
   ],
   "source": [
    "from sklearn.naive_bayes import GaussianNB, BernoulliNB\n",
    "\n",
    "clf = GaussianNB()\n",
    "clf.fit(x_train, y_train)\n",
    "clf.score(x_test, y_test)"
   ]
  },
  {
   "cell_type": "code",
   "execution_count": 11,
   "metadata": {},
   "outputs": [
    {
     "data": {
      "text/plain": [
       "array([0])"
      ]
     },
     "execution_count": 11,
     "metadata": {},
     "output_type": "execute_result"
    }
   ],
   "source": [
    "clf.predict([[4.4, 3.2, 1.3, 0.2]])"
   ]
  },
  {
   "cell_type": "code",
   "execution_count": 12,
   "metadata": {},
   "outputs": [
    {
     "data": {
      "text/plain": [
       "1.0"
      ]
     },
     "execution_count": 12,
     "metadata": {},
     "output_type": "execute_result"
    }
   ],
   "source": [
    "from sklearn.tree import DecisionTreeClassifier\n",
    "\n",
    "clf = DecisionTreeClassifier()\n",
    "clf.fit(x_train, y_train)\n",
    "clf.score(x_test, y_test)"
   ]
  }
 ],
 "metadata": {
  "interpreter": {
   "hash": "31f2aee4e71d21fbe5cf8b01ff0e069b9275f58929596ceb00d14d90e3e16cd6"
  },
  "kernelspec": {
   "display_name": "Python 3.8.10 64-bit",
   "language": "python",
   "name": "python3"
  },
  "language_info": {
   "codemirror_mode": {
    "name": "ipython",
    "version": 3
   },
   "file_extension": ".py",
   "mimetype": "text/x-python",
   "name": "python",
   "nbconvert_exporter": "python",
   "pygments_lexer": "ipython3",
   "version": "3.7.10"
  },
  "orig_nbformat": 4
 },
 "nbformat": 4,
 "nbformat_minor": 2
}
