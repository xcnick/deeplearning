{
 "cells": [
  {
   "cell_type": "markdown",
   "metadata": {},
   "source": [
    "# 逻辑回归\n",
    "\n",
    "逻辑分布函数，形状类似 sigmoid 函数，以点 $(\\mu, \\frac{1}{2})$ 中心对称\n",
    "\n",
    "$$\n",
    "F(x)=P(X \\leq x)=\\frac{1}{1+e^{-(x-\\mu)/\\gamma}}\n",
    "$$\n",
    "\n",
    "密度函数\n",
    "\n",
    "$$\n",
    "f(x)=F'(x)=\\frac{e^{-(x-\\mu)/\\gamma}}{\\gamma(1+e^{-(x-\\mu)/\\gamma})^2}\n",
    "$$\n",
    "\n",
    "二项逻辑回归模型条件概率分布如下：\n",
    "\n",
    "$$\n",
    "P(Y=1|x)=\\frac{exp(w \\cdot x + b)}{1 + exp(w \\cdot x + b)} \\\\\n",
    "P(Y=0|x)=\\frac{1}{1 + exp(w \\cdot x + b)}\n",
    "$$\n",
    "\n",
    "\n",
    "约定\n",
    "$$\n",
    "P(Y=1|x) = \\hat y \\\\\n",
    "P(Y=0|x) = 1 - \\hat y\n",
    "$$\n",
    "\n",
    "根据 0-1 分布特点，合并上式得到\n",
    "\n",
    "$$\n",
    "P(y|x) = {\\hat y}^y(1-\\hat y)^{1-y}\n",
    "$$\n",
    "\n",
    "\n",
    "损失函数\n",
    "\n",
    "$$\n",
    "L(w)=-(y\\log{\\hat y} + (1-y)\\log(1-\\hat y))\n",
    "$$"
   ]
  },
  {
   "cell_type": "code",
   "execution_count": 1,
   "metadata": {},
   "outputs": [],
   "source": [
    "import numpy as np\n",
    "import pandas as pd\n",
    "\n",
    "from sklearn.datasets import load_iris\n",
    "from sklearn.model_selection import train_test_split\n",
    "import matplotlib.pyplot as plt"
   ]
  },
  {
   "cell_type": "code",
   "execution_count": 2,
   "metadata": {},
   "outputs": [],
   "source": [
    "df_iris = load_iris(as_frame=True, return_X_y=True)\n",
    "x = np.array(df_iris[0].iloc[:100, :2])\n",
    "y = np.array(df_iris[1].iloc[:100])\n",
    "\n",
    "x_train, x_test, y_train, y_test = train_test_split(x, y, test_size=0.2, random_state=42)"
   ]
  },
  {
   "cell_type": "code",
   "execution_count": 4,
   "metadata": {},
   "outputs": [
    {
     "name": "stdout",
     "output_type": "stream",
     "text": [
      "step 0/2000 loss: 1.0809041620260023\n",
      "step 200/2000 loss: 0.06331217116026336\n",
      "step 400/2000 loss: 0.05959949657467041\n",
      "step 600/2000 loss: 0.05687497077271551\n",
      "step 800/2000 loss: 0.05468152775980306\n",
      "step 1000/2000 loss: 0.0528096360603589\n",
      "step 1200/2000 loss: 0.05115040548494609\n",
      "step 1400/2000 loss: 0.04964205671932758\n",
      "step 1600/2000 loss: 0.04824716995781984\n",
      "step 1800/2000 loss: 0.04694188690154664\n"
     ]
    },
    {
     "data": {
      "text/plain": [
       "[<matplotlib.lines.Line2D at 0x7fe280fd4810>]"
      ]
     },
     "execution_count": 4,
     "metadata": {},
     "output_type": "execute_result"
    },
    {
     "data": {
      "image/png": "[encoded data removed]",
      "text/plain": [
       "<Figure size 432x288 with 1 Axes>"
      ]
     },
     "metadata": {
      "needs_background": "light"
     },
     "output_type": "display_data"
    }
   ],
   "source": [
    "class LogisticRegression():\n",
    "\n",
    "    def __init__(self):\n",
    "        self.w = None\n",
    "        self.b = None\n",
    "\n",
    "    def sigmoid(self, x):\n",
    "        return 1. / (1 + np.exp(-x))\n",
    "\n",
    "    def output(self, x):\n",
    "        z = np.dot(self.w, x.T) + self.b\n",
    "        return self.sigmoid(z)\n",
    "\n",
    "    def compute_loss(self, x, y):        \n",
    "        y_hat = self.output(x)\n",
    "        loss = np.mean(-y * np.log(y_hat) - (1 - y) * np.log(1 - y_hat))\n",
    "        dw = np.dot((y_hat - y), x)\n",
    "        db = np.sum(y_hat - y)\n",
    "        return loss, dw, db\n",
    "\n",
    "    def train(self, x, y, lr=0.01, num_iter=1000):\n",
    "        num_features = x.shape[1]\n",
    "        self.w = np.random.randn(1, num_features)\n",
    "        self.b = np.zeros(1)\n",
    "        loss = []\n",
    "        for i in range(num_iter):\n",
    "            loss_i, dw, db = self.compute_loss(x, y)\n",
    "            self.w -= lr * dw\n",
    "            self.b -= lr * db\n",
    "            loss.append(loss_i)\n",
    "            if i % 200 == 0:\n",
    "                print(f\"step {i}/{num_iter} loss: {loss_i}\")\n",
    "        return loss\n",
    "\n",
    "    def predict(self, x):\n",
    "        y_hat = self.output(x)\n",
    "        y_pred = np.round(y_hat)\n",
    "        return y_pred\n",
    "\n",
    "\n",
    "logisitic_reg = LogisticRegression()\n",
    "loss = logisitic_reg.train(x_train, y_train, lr=0.01, num_iter=2000)\n",
    "plt.plot(loss)"
   ]
  },
  {
   "cell_type": "code",
   "execution_count": 8,
   "metadata": {},
   "outputs": [
    {
     "data": {
      "text/plain": [
       "<matplotlib.legend.Legend at 0x7fe27e8e61d0>"
      ]
     },
     "execution_count": 8,
     "metadata": {},
     "output_type": "execute_result"
    },
    {
     "data": {
      "image/png": "[encoded data removed]",
      "text/plain": [
       "<Figure size 432x288 with 1 Axes>"
      ]
     },
     "metadata": {
      "needs_background": "light"
     },
     "output_type": "display_data"
    }
   ],
   "source": [
    "x_points = np.arange(4, 8)\n",
    "y_ = -(logisitic_reg.w[0][0] * x_points + logisitic_reg.b) / logisitic_reg.w[0][1]\n",
    "plt.plot(x_points, y_, '-')\n",
    "\n",
    "idx_train = np.where(y_train==0)\n",
    "idx_test = np.where(y_test==0)\n",
    "plt.scatter(np.concatenate([x_train[idx_train, 0], x_test[idx_test, 0]], axis=1), \n",
    "            np.concatenate([x_train[idx_train, 1], x_test[idx_test, 1]], axis=1), label='0')\n",
    "\n",
    "idx_train = np.where(y_train==1)\n",
    "idx_test = np.where(y_test==1)\n",
    "plt.scatter(np.concatenate([x_train[idx_train, 0], x_test[idx_test, 0]], axis=-1), \n",
    "            np.concatenate([x_train[idx_train, 1], x_test[idx_test, 1]], axis=-1), label='1')\n",
    "plt.xlabel(\"sepal length\")\n",
    "plt.ylabel(\"sepal width\")\n",
    "plt.legend()"
   ]
  },
  {
   "cell_type": "code",
   "execution_count": 59,
   "metadata": {},
   "outputs": [
    {
     "data": {
      "text/plain": [
       "1.0"
      ]
     },
     "execution_count": 59,
     "metadata": {},
     "output_type": "execute_result"
    }
   ],
   "source": [
    "from sklearn.linear_model import LogisticRegression\n",
    "\n",
    "clf = LogisticRegression(max_iter=200)\n",
    "clf.fit(x_train, y_train)\n",
    "clf.score(x_test, y_test)"
   ]
  },
  {
   "cell_type": "code",
   "execution_count": 60,
   "metadata": {},
   "outputs": [
    {
     "name": "stdout",
     "output_type": "stream",
     "text": [
      "[[ 2.88868978 -2.72919824]] [-7.07994242]\n"
     ]
    }
   ],
   "source": [
    "print(clf.coef_, clf.intercept_)"
   ]
  },
  {
   "cell_type": "code",
   "execution_count": 61,
   "metadata": {},
   "outputs": [
    {
     "data": {
      "text/plain": [
       "<matplotlib.legend.Legend at 0x7f502449f6d0>"
      ]
     },
     "execution_count": 61,
     "metadata": {},
     "output_type": "execute_result"
    },
    {
     "data": {
      "image/png": "[encoded data removed]",
      "text/plain": [
       "<Figure size 432x288 with 1 Axes>"
      ]
     },
     "metadata": {
      "needs_background": "light"
     },
     "output_type": "display_data"
    }
   ],
   "source": [
    "x_points = np.arange(4, 8)\n",
    "y_ = -(clf.coef_[0][0]*x_points + clf.intercept_)/clf.coef_[0][-1]\n",
    "plt.plot(x_points, y_)\n",
    "\n",
    "idx_train = np.where(y_train==0)\n",
    "idx_test = np.where(y_test==0)\n",
    "plt.scatter(np.concatenate([x_train[idx_train, 0], x_test[idx_test, 0]], axis=1), \n",
    "            np.concatenate([x_train[idx_train, 1], x_test[idx_test, 1]], axis=1), label='0')\n",
    "\n",
    "idx_train = np.where(y_train==1)\n",
    "idx_test = np.where(y_test==1)\n",
    "plt.scatter(np.concatenate([x_train[idx_train, 0], x_test[idx_test, 0]], axis=-1), \n",
    "            np.concatenate([x_train[idx_train, 1], x_test[idx_test, 1]], axis=-1), label='1')\n",
    "plt.xlabel(\"sepal length\")\n",
    "plt.ylabel(\"sepal width\")\n",
    "plt.legend()"
   ]
  },
  {
   "cell_type": "code",
   "execution_count": 50,
   "metadata": {},
   "outputs": [],
   "source": [
    "import torch\n",
    "import torch.nn as nn\n",
    "\n",
    "\n",
    "class LogisiticRegression(nn.Module):\n",
    "\n",
    "    def __init__(self, in_feats=2, out_feats=1):\n",
    "        super().__init__()\n",
    "        self.linear = nn.Linear(in_features=in_feats, out_features=out_feats)\n",
    "\n",
    "    def forward(self, x):\n",
    "        out = self.linear(x)\n",
    "        out = torch.sigmoid(out)\n",
    "        return out\n",
    "\n",
    "\n",
    "l_r = LogisiticRegression()\n",
    "l_r.zero_grad()\n",
    "\n",
    "l_r.train()\n",
    "loss_fct = nn.BCELoss()\n",
    "opt = torch.optim.SGD(l_r.parameters(), lr=0.01)\n",
    "\n",
    "x = torch.tensor(x_train, dtype=torch.float32)\n",
    "y = torch.tensor(y_train, dtype=torch.float32)\n",
    "\n",
    "for epoch in range(5000):\n",
    "    out = l_r(x)\n",
    "    loss = loss_fct(out, y.view(-1, 1))\n",
    "    loss.backward()\n",
    "    opt.step()\n",
    "    l_r.zero_grad()\n",
    "\n",
    "with torch.no_grad():\n",
    "    x = torch.tensor(x_test, dtype=torch.float32)\n",
    "    y = torch.tensor(y_test, dtype=torch.float32)\n",
    "    y_pred = l_r(x).round().flatten()\n",
    "    acc = y_pred.eq(y).sum() / float(y.shape[0])"
   ]
  },
  {
   "cell_type": "code",
   "execution_count": 54,
   "metadata": {},
   "outputs": [
    {
     "name": "stdout",
     "output_type": "stream",
     "text": [
      "Parameter containing:\n",
      "tensor([[ 2.2445, -3.8717]], requires_grad=True) Parameter containing:\n",
      "tensor([-0.0865], requires_grad=True)\n"
     ]
    },
    {
     "data": {
      "text/plain": [
       "<matplotlib.legend.Legend at 0x7fef029b8c50>"
      ]
     },
     "execution_count": 54,
     "metadata": {},
     "output_type": "execute_result"
    },
    {
     "data": {
      "image/png": "[encoded data removed]",
      "text/plain": [
       "<Figure size 432x288 with 1 Axes>"
      ]
     },
     "metadata": {
      "needs_background": "light"
     },
     "output_type": "display_data"
    }
   ],
   "source": [
    "x_points = np.arange(4, 8)\n",
    "print(l_r.linear.weight, l_r.linear.bias)\n",
    "y_ = -(l_r.linear.weight[0][0].detach().numpy()*x_points + l_r.linear.bias.detach().numpy())/l_r.linear.weight[0][1].detach().numpy()\n",
    "plt.plot(x_points, y_)\n",
    "\n",
    "idx_train = np.where(y_train==0)\n",
    "idx_test = np.where(y_test==0)\n",
    "plt.scatter(np.concatenate([x_train[idx_train, 0], x_test[idx_test, 0]], axis=1), \n",
    "            np.concatenate([x_train[idx_train, 1], x_test[idx_test, 1]], axis=1), label='0')\n",
    "\n",
    "idx_train = np.where(y_train==1)\n",
    "idx_test = np.where(y_test==1)\n",
    "plt.scatter(np.concatenate([x_train[idx_train, 0], x_test[idx_test, 0]], axis=-1), \n",
    "            np.concatenate([x_train[idx_train, 1], x_test[idx_test, 1]], axis=-1), label='1')\n",
    "plt.xlabel(\"sepal length\")\n",
    "plt.ylabel(\"sepal width\")\n",
    "plt.legend()"
   ]
  }
 ],
 "metadata": {
  "interpreter": {
   "hash": "61839f7db1b217d44ea212fe58a09e6de221471dead234eee5ac733397de118b"
  },
  "kernelspec": {
   "display_name": "Python 3.7.10 64-bit ('base': conda)",
   "language": "python",
   "name": "python3"
  },
  "language_info": {
   "codemirror_mode": {
    "name": "ipython",
    "version": 3
   },
   "file_extension": ".py",
   "mimetype": "text/x-python",
   "name": "python",
   "nbconvert_exporter": "python",
   "pygments_lexer": "ipython3",
   "version": "3.7.10"
  },
  "orig_nbformat": 4
 },
 "nbformat": 4,
 "nbformat_minor": 2
}
