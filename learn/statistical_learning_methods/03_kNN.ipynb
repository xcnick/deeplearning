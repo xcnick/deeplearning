{
 "cells": [
  {
   "cell_type": "markdown",
   "metadata": {},
   "source": [
    "# k 近邻\n",
    "\n",
    "k 近邻是一种基本的分类和回归方法。基本做法是：对给定的训练实例点和输入实例点，首先确定输入实例点的 k 个最近邻训练实例点，再利用这 k 个训练实例点的类的多数来预测输入实例点的类。\n",
    "\n",
    "k 近邻模型是使用训练数据集对特征空间的划分。当训练集、距离度量、k值和分类决策规则确定后，其结果唯一确定。\n",
    "\n",
    "k 近邻法三要素：\n",
    "- 距离度量，常用欧式距离或 $L_p$ 距离\n",
    "- k值，该值越小，模型越复杂\n",
    "- 分类决策规则，常用多数表决规则\n",
    "\n",
    "k 近邻法的实现需要考虑如何快速搜索 k 个最近邻点."
   ]
  },
  {
   "cell_type": "code",
   "execution_count": 1,
   "metadata": {},
   "outputs": [],
   "source": [
    "import numpy as np\n",
    "import pandas as pd\n",
    "\n",
    "from sklearn.datasets import load_iris\n",
    "from sklearn.model_selection import train_test_split\n",
    "import matplotlib.pyplot as plt\n",
    "from collections import Counter"
   ]
  },
  {
   "cell_type": "code",
   "execution_count": 2,
   "metadata": {},
   "outputs": [],
   "source": [
    "df_iris = load_iris(as_frame=True, return_X_y=True)\n",
    "x = np.array(df_iris[0].iloc[:100, 0:2])\n",
    "y = np.array(df_iris[1].iloc[:100])\n",
    "\n",
    "x_train, x_test, y_train, y_test = train_test_split(x, y, test_size=0.2, random_state=42)"
   ]
  },
  {
   "cell_type": "code",
   "execution_count": 3,
   "metadata": {},
   "outputs": [],
   "source": [
    "class kNN:\n",
    "\n",
    "    def __init__(self, x_train, y_train, k=3, p=2):\n",
    "        \"\"\"\n",
    "        k: 临近点数量\n",
    "        p: 距离度量\n",
    "        \"\"\"\n",
    "        self.x_train = x_train\n",
    "        self.y_train = y_train\n",
    "        self.k = k\n",
    "        self.p = p\n",
    "\n",
    "    def predict(self, x):\n",
    "        knn_list = []\n",
    "        for i in range(self.k):\n",
    "            dist = np.linalg.norm(x - self.x_train[i], ord=self.p)\n",
    "            knn_list.append((dist, self.y_train[i]))\n",
    "\n",
    "        for i in range(self.k, len(self.x_train)):\n",
    "            max_index = knn_list.index(max(knn_list, key=lambda x: x[0]))\n",
    "            dist = np.linalg.norm(x - self.x_train[i], ord=self.p)\n",
    "            if dist < knn_list[max_index][0]:\n",
    "                knn_list[max_index] = (dist, self.y_train[i])\n",
    "\n",
    "        # 此时 knn_list 中已经是k个最近的点\n",
    "        knn = [k[-1] for k in knn_list]\n",
    "        count_pairs = Counter(knn)\n",
    "        max_count = sorted(count_pairs.items(), key=lambda x: x[1])[-1][0]\n",
    "        return max_count\n",
    "\n",
    "    def score(self, x_test, y_test):\n",
    "        y_predict = [self.predict(x) for x in x_test]\n",
    "        return sum(y_predict == y_test) / len(y_test)"
   ]
  },
  {
   "cell_type": "code",
   "execution_count": 4,
   "metadata": {},
   "outputs": [
    {
     "data": {
      "text/plain": [
       "1.0"
      ]
     },
     "execution_count": 4,
     "metadata": {},
     "output_type": "execute_result"
    }
   ],
   "source": [
    "clf = kNN(x_train, y_train, k=3, p=2)\n",
    "clf.score(x_test, y_test)"
   ]
  },
  {
   "cell_type": "code",
   "execution_count": 5,
   "metadata": {},
   "outputs": [
    {
     "name": "stdout",
     "output_type": "stream",
     "text": [
      "Test Point: 1\n"
     ]
    }
   ],
   "source": [
    "test_point = [6.0, 3.0]\n",
    "print(\"Test Point: {}\".format(clf.predict(test_point)))"
   ]
  },
  {
   "cell_type": "code",
   "execution_count": 23,
   "metadata": {},
   "outputs": [
    {
     "data": {
      "text/plain": [
       "(array([ 2,  3,  5,  6,  8, 10, 11, 13, 15, 18, 19, 20, 21, 22, 24, 25, 27,\n",
       "        29, 30, 31, 32, 33, 34, 36, 38, 43, 46, 51, 53, 57, 62, 63, 64, 66,\n",
       "        67, 68, 74, 77]),)"
      ]
     },
     "execution_count": 23,
     "metadata": {},
     "output_type": "execute_result"
    }
   ],
   "source": [
    "idx0 = np.where(y_train==0)\n",
    "idx0"
   ]
  },
  {
   "cell_type": "code",
   "execution_count": 13,
   "metadata": {},
   "outputs": [
    {
     "name": "stdout",
     "output_type": "stream",
     "text": [
      "[[5.  4.4 5.7 5.  4.9 4.8 4.6 5.2 5.4 5.  5.4 5.  4.9 5.  5.2 5.1 5.  4.3\n",
      "  4.8 4.6 5.1 4.4 4.4 4.6 5.5 5.  5.1 4.5 5.3 5.2 4.9 4.7 4.9 5.1 4.7 5.1\n",
      "  5.4 5.8]]\n"
     ]
    },
    {
     "data": {
      "text/plain": [
       "<matplotlib.legend.Legend at 0x7f74db0adcd0>"
      ]
     },
     "execution_count": 13,
     "metadata": {},
     "output_type": "execute_result"
    },
    {
     "data": {
      "image/png": "[encoded data removed]",
      "text/plain": [
       "<Figure size 432x288 with 1 Axes>"
      ]
     },
     "metadata": {
      "needs_background": "light"
     },
     "output_type": "display_data"
    }
   ],
   "source": [
    "#[x1 if x1 for x1 in x_train + x_test]\n",
    "idx_train = np.where(y_train==0)\n",
    "idx_test = np.where(y_test==0)\n",
    "plt.scatter(np.concatenate([x_train[idx_train, 0], x_test[idx_test, 0]], axis=1), \n",
    "            np.concatenate([x_train[idx_train, 1], x_test[idx_test, 1]], axis=1), label='0')\n",
    "\n",
    "idx_train = np.where(y_train==1)\n",
    "idx_test = np.where(y_test==1)\n",
    "plt.scatter(np.concatenate([x_train[idx_train, 0], x_test[idx_test, 0]], axis=-1), \n",
    "            np.concatenate([x_train[idx_train, 1], x_test[idx_test, 1]], axis=-1), label='1')\n",
    "plt.xlabel(\"sepal length\")\n",
    "plt.ylabel(\"sepal width\")\n",
    "plt.legend()"
   ]
  }
 ],
 "metadata": {
  "interpreter": {
   "hash": "61839f7db1b217d44ea212fe58a09e6de221471dead234eee5ac733397de118b"
  },
  "kernelspec": {
   "display_name": "Python 3.7.10 64-bit ('base': conda)",
   "language": "python",
   "name": "python3"
  },
  "language_info": {
   "codemirror_mode": {
    "name": "ipython",
    "version": 3
   },
   "file_extension": ".py",
   "mimetype": "text/x-python",
   "name": "python",
   "nbconvert_exporter": "python",
   "pygments_lexer": "ipython3",
   "version": "3.7.10"
  },
  "orig_nbformat": 4
 },
 "nbformat": 4,
 "nbformat_minor": 2
}
