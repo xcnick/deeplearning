{
 "cells": [
  {
   "cell_type": "markdown",
   "metadata": {},
   "source": [
    "# 决策树\n",
    "\n",
    "分类决策树模式是表示基于特征对实例进行分类的树形结构，决策树可以转换成一个 if-then 规则的集合，也可看做是定义在特征空间划分上的类的条件概率分布。\n",
    "\n",
    "决策树学习旨在构建一个与训练数据拟合很好，复杂度小的决策树。使用启发式方法学习次优决策树。\n",
    "\n",
    "决策树学习算法包含三个部分\n",
    "- 特征选择\n",
    "- 树的生成\n",
    "- 树的剪枝\n",
    "  \n",
    "常用算法有：\n",
    "- ID3\n",
    "- C4.5\n",
    "- CART"
   ]
  }
 ],
 "metadata": {
  "language_info": {
   "name": "python"
  },
  "orig_nbformat": 4
 },
 "nbformat": 4,
 "nbformat_minor": 2
}
