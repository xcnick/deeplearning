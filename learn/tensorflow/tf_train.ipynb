{
 "cells": [
  {
   "cell_type": "code",
   "execution_count": null,
   "source": [
    "import os\n",
    "os.environ[\"CUDA_VISIBLE_DEVICES\"] = \"\"\n",
    "\n",
    "import tensorflow as tf"
   ],
   "outputs": [],
   "metadata": {}
  },
  {
   "cell_type": "code",
   "execution_count": null,
   "source": [
    "TRUE_W = 3.0\n",
    "TRUE_B = 2.0\n",
    "\n",
    "NUM_EXAMPLES = 1000\n",
    "\n",
    "x = tf.random.normal(shape=[NUM_EXAMPLES])\n",
    "\n",
    "noise = tf.random.normal(shape=[NUM_EXAMPLES])\n",
    "\n",
    "y = x * TRUE_W + TRUE_B + noise"
   ],
   "outputs": [],
   "metadata": {}
  },
  {
   "cell_type": "code",
   "execution_count": null,
   "source": [
    "import matplotlib.pyplot as plt\n",
    "\n",
    "plt.scatter(x, y, c='b')\n",
    "plt.show()"
   ],
   "outputs": [],
   "metadata": {}
  },
  {
   "cell_type": "code",
   "execution_count": null,
   "source": [
    "class MyModel(tf.Module):\n",
    "    def __init__(self, **kwargs):\n",
    "        super().__init__(**kwargs)\n",
    "        self.w = tf.Variable(5.0)\n",
    "        self.b = tf.Variable(0.0)\n",
    "\n",
    "    def __call__(self, x):\n",
    "        return self.w * x + self.b\n",
    "\n",
    "model = MyModel()\n",
    "\n",
    "print(\"Variables:\", model.variables)\n",
    "\n",
    "assert model(3.0).numpy() == 15.0"
   ],
   "outputs": [],
   "metadata": {}
  },
  {
   "cell_type": "code",
   "execution_count": null,
   "source": [
    "def loss(target_y, predicted_y):\n",
    "    return tf.reduce_mean(tf.square(target_y - predicted_y))"
   ],
   "outputs": [],
   "metadata": {}
  },
  {
   "cell_type": "code",
   "execution_count": null,
   "source": [
    "plt.scatter(x, y, c=\"b\")\n",
    "plt.scatter(x, model(x), c=\"r\")\n",
    "plt.show()\n",
    "\n",
    "print(\"Current loss: %1.6f\" % loss(model(x), y).numpy())"
   ],
   "outputs": [],
   "metadata": {}
  },
  {
   "cell_type": "code",
   "execution_count": null,
   "source": [
    "\"\"\"\n",
    "训练循环包括：\n",
    "\n",
    "- 使用一批输入值，通过模型生成输出值\n",
    "- 通过比较输出值与标签，计算损失\n",
    "- 使用 GradientTape 找到梯度值\n",
    "- 使用梯度优化变量\n",
    "\"\"\"\n",
    "\n",
    "def train(model, x, y, learning_rate):\n",
    "    with tf.GradientTape() as tape:\n",
    "        current_loss = loss(y, model(x))\n",
    "\n",
    "    dw, db = tape.gradient(current_loss, [model.w, model.b])\n",
    "\n",
    "    model.w.assign_sub(learning_rate * dw)\n",
    "    model.b.assign_sub(learning_rate * db)"
   ],
   "outputs": [],
   "metadata": {}
  },
  {
   "cell_type": "code",
   "execution_count": null,
   "source": [
    "model = MyModel()\n",
    "\n",
    "Ws, Bs = [], []\n",
    "epochs = range(10)\n",
    "\n",
    "def training_loop(model, x, y):\n",
    "    for epoch in epochs:\n",
    "        train(model, x, y, learning_rate=0.1)\n",
    "\n",
    "        Ws.append(model.w.numpy())\n",
    "        Bs.append(model.b.numpy())\n",
    "        current_loss = loss(y, model(x))\n",
    "\n",
    "        print(\"Epoch %2d: W=%1.2f b=%1.2f, loss=%2.5f\" % (epoch, Ws[-1], Bs[-1], current_loss))\n",
    "\n",
    "print(\"Starting: W=%1.2f b=%1.2f, loss=%2.5f\" % (model.w, model.b, loss(y, model(x))))\n",
    "\n",
    "training_loop(model, x, y)\n",
    "\n",
    "plt.plot(epochs, Ws, \"r\",\n",
    "         epochs, Bs, \"b\")\n",
    "\n",
    "plt.plot([TRUE_W] * len(epochs), \"r--\",\n",
    "         [TRUE_B] * len(epochs), \"b--\")\n",
    "\n",
    "plt.legend([\"W\", \"b\", \"True W\", \"True b\"])\n",
    "\n",
    "plt.show()"
   ],
   "outputs": [],
   "metadata": {}
  },
  {
   "cell_type": "code",
   "execution_count": null,
   "source": [
    "plt.scatter(x, y, c=\"b\")\n",
    "plt.scatter(x, model(x), c=\"r\")\n",
    "plt.show()\n",
    "\n",
    "print(\"Current loss: %1.6f\" % loss(model(x), y).numpy())"
   ],
   "outputs": [],
   "metadata": {}
  },
  {
   "cell_type": "code",
   "execution_count": null,
   "source": [
    "class MyModelKeras(tf.keras.Model):\n",
    "    def __init__(self, **kwargs):\n",
    "        super().__init__(**kwargs)\n",
    "        self.w = tf.Variable(5.0)\n",
    "        self.b = tf.Variable(0.0)\n",
    "\n",
    "    def __call__(self, x, **kwargs):\n",
    "        return self.w * x + self.b\n",
    "\n",
    "keras_model = MyModelKeras()\n",
    "\n",
    "training_loop(keras_model, x, y)\n",
    "\n",
    "keras_model.save_weights(\"my_checkpoint\")"
   ],
   "outputs": [],
   "metadata": {}
  },
  {
   "cell_type": "code",
   "execution_count": null,
   "source": [
    "keras_model = MyModelKeras()\n",
    "\n",
    "keras_model.compile(\n",
    "    run_eagerly=False,\n",
    "    optimizer=tf.keras.optimizers.SGD(learning_rate=0.1),\n",
    "    loss=tf.keras.losses.mean_squared_error,\n",
    ")\n",
    "\n",
    "print(x.shape[0])\n",
    "\n",
    "keras_model.fit(x, y, epochs=10, batch_size=1000)"
   ],
   "outputs": [],
   "metadata": {}
  }
 ],
 "metadata": {
  "orig_nbformat": 4,
  "language_info": {
   "name": "python",
   "version": "3.7.9",
   "mimetype": "text/x-python",
   "codemirror_mode": {
    "name": "ipython",
    "version": 3
   },
   "pygments_lexer": "ipython3",
   "nbconvert_exporter": "python",
   "file_extension": ".py"
  },
  "kernelspec": {
   "name": "python3",
   "display_name": "Python 3.7.9 64-bit ('base': conda)"
  },
  "interpreter": {
   "hash": "98b0a9b7b4eaaa670588a142fd0a9b87eaafe866f1db4228be72b4211d12040f"
  }
 },
 "nbformat": 4,
 "nbformat_minor": 2
}