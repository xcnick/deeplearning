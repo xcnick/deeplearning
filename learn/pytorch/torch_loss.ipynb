{
 "cells": [
  {
   "cell_type": "code",
   "execution_count": 2,
   "metadata": {},
   "outputs": [],
   "source": [
    "import torch\n",
    "\n",
    "# 对于参数reduction='none','mean','sum'\n",
    "# 'none': 表示输出形状与输入相同\n",
    "# 'mean': 表示输出loss均值\n",
    "# 'sum': 表示输出loss综合\n",
    "# 默认值是'mean'"
   ]
  },
  {
   "cell_type": "markdown",
   "metadata": {},
   "source": [
    "# MAE Loss (L1)\n",
    "\n",
    "torch.nn.L1Loss()\n",
    "\n",
    "$$l(x,y) = L = \\{l_1, ..., l_N\\}, l_n = |x_n - y_n|$$"
   ]
  },
  {
   "cell_type": "code",
   "execution_count": 16,
   "metadata": {},
   "outputs": [
    {
     "output_type": "stream",
     "name": "stdout",
     "text": "tensor(0.7500)\n"
    }
   ],
   "source": [
    "pred = torch.tensor([[3, 1], [1, 0]], dtype=torch.float)\n",
    "target = torch.tensor([[1, 0], [1, 0]], dtype=torch.float)\n",
    "loss_fct = torch.nn.L1Loss()\n",
    "loss = loss_fct(pred, target)\n",
    "print(loss)"
   ]
  },
  {
   "cell_type": "markdown",
   "metadata": {},
   "source": [
    "# MSE Loss (L2)\n",
    "\n",
    "torch.nn.MSELoss()\n",
    "\n",
    "$$l(x,y) = L = \\{l_1, ..., l_n\\}, l_n = (x_n - y_n)^2$$"
   ]
  },
  {
   "cell_type": "code",
   "execution_count": 17,
   "metadata": {},
   "outputs": [
    {
     "output_type": "stream",
     "name": "stdout",
     "text": "tensor(1.2500)\n"
    }
   ],
   "source": [
    "pred = torch.tensor([[3, 1], [1, 0]], dtype=torch.float)\n",
    "target = torch.tensor([[1, 0], [1, 0]], dtype=torch.float)\n",
    "loss_fct = torch.nn.MSELoss()\n",
    "loss = loss_fct(pred, target)\n",
    "print(loss)"
   ]
  },
  {
   "cell_type": "markdown",
   "metadata": {},
   "source": [
    "# SmoothL1Loss\n",
    "\n",
    "误差在(-1,1)是平方损失，其他是L1损失\n",
    "\n",
    "$$ \n",
    "Z_i =\n",
    "\\begin{cases}\n",
    "0.5(x_i - y_i)^2, if |x_i - y_i| < 1 \\\\\n",
    "|x_i - y_i| - 0.5, otherwise\n",
    "\\end{cases}\n",
    "$$\n"
   ]
  },
  {
   "cell_type": "code",
   "execution_count": 18,
   "metadata": {},
   "outputs": [
    {
     "output_type": "stream",
     "name": "stdout",
     "text": "tensor(0.5000)\n"
    }
   ],
   "source": [
    "pred = torch.tensor([[3, 1], [1, 0]], dtype=torch.float)\n",
    "target = torch.tensor([[1, 0], [1, 0]], dtype=torch.float)\n",
    "loss_fct = torch.nn.SmoothL1Loss()\n",
    "loss = loss_fct(pred, target)\n",
    "print(loss)"
   ]
  },
  {
   "cell_type": "markdown",
   "metadata": {},
   "source": [
    "# BCELoss\n",
    "\n",
    "$$ l(x,y) = L = \\{l_1, ..., l_N \\}, l_n = -w_n[y_n \\cdot logx_n + (1 - y_n) \\cdot log(1 - x_n) ]$$"
   ]
  },
  {
   "cell_type": "code",
   "execution_count": 6,
   "metadata": {},
   "outputs": [
    {
     "output_type": "stream",
     "name": "stdout",
     "text": "tensor(0.5921)\n"
    }
   ],
   "source": [
    "m = torch.nn.Sigmoid()\n",
    "pred = torch.tensor([[3, 1], [1, 0]], dtype=torch.float)\n",
    "target = torch.tensor([[1, 0], [1, 0]], dtype=torch.float)\n",
    "loss_fct = torch.nn.BCELoss()\n",
    "loss = loss_fct(m(pred), target)\n",
    "print(loss)"
   ]
  },
  {
   "cell_type": "markdown",
   "metadata": {},
   "source": [
    "# BCEWithLogitsLoss\n",
    "\n",
    "合并Sigmoid和BCELoss的计算过程，使用log-sum-exp提升系统稳定性\n",
    "\n",
    "$$ l(x,y) = L = \\{l_1, ..., l_N \\}, l_n = -w_n[y_n \\cdot log\\sigma(x_n) + (1 - y_n) \\cdot log(1 - \\sigma(x_n)) ]$$"
   ]
  },
  {
   "cell_type": "code",
   "execution_count": 7,
   "metadata": {},
   "outputs": [
    {
     "output_type": "stream",
     "name": "stdout",
     "text": "tensor(0.5921)\n"
    }
   ],
   "source": [
    "pred = torch.tensor([[3, 1], [1, 0]], dtype=torch.float)\n",
    "target = torch.tensor([[1, 0], [1, 0]], dtype=torch.float)\n",
    "loss_fct = torch.nn.BCEWithLogitsLoss()\n",
    "loss = loss_fct(pred, target)\n",
    "print(loss)"
   ]
  },
  {
   "cell_type": "markdown",
   "metadata": {},
   "source": [
    "# NLLLoss\n",
    "\n",
    "Negative log likelihood loss\n",
    "\n",
    "input: (N, C)\n",
    "\n",
    "target: (N)"
   ]
  },
  {
   "cell_type": "code",
   "execution_count": 20,
   "metadata": {},
   "outputs": [
    {
     "output_type": "stream",
     "name": "stdout",
     "text": "tensor(1.8236)\n"
    }
   ],
   "source": [
    "m = torch.nn.LogSoftmax(dim=1)\n",
    "\n",
    "pred = torch.tensor([[3, 1, 1], [1, 0, 2]], dtype=torch.float)\n",
    "target = torch.tensor([1, 0], dtype=torch.long)\n",
    "loss_fct = torch.nn.NLLLoss()\n",
    "loss = loss_fct(m(pred), target)\n",
    "print(loss)"
   ]
  },
  {
   "cell_type": "markdown",
   "metadata": {},
   "source": [
    "# CrossEntropyLoss \n",
    "\n",
    "合并`nn.LogSoftmax()`和`nn.NLLLoss()`\n",
    "\n",
    "input: (N, C)\n",
    "\n",
    "target: (N)"
   ]
  },
  {
   "cell_type": "code",
   "execution_count": 21,
   "metadata": {},
   "outputs": [
    {
     "output_type": "stream",
     "name": "stdout",
     "text": "tensor(1.8236)\n"
    }
   ],
   "source": [
    "pred = torch.tensor([[3, 1, 1], [1, 0, 2]], dtype=torch.float)\n",
    "target = torch.tensor([1, 0], dtype=torch.long)\n",
    "loss_fct = torch.nn.CrossEntropyLoss()\n",
    "loss = loss_fct(pred, target)\n",
    "print(loss)"
   ]
  }
 ],
 "metadata": {
  "language_info": {
   "codemirror_mode": {
    "name": "ipython",
    "version": 3
   },
   "file_extension": ".py",
   "mimetype": "text/x-python",
   "name": "python",
   "nbconvert_exporter": "python",
   "pygments_lexer": "ipython3",
   "version": "3.7.6-final"
  },
  "orig_nbformat": 2,
  "kernelspec": {
   "name": "python37664bitchicondaf76e8f1b717c4dbcbeaf219645c8481f",
   "display_name": "Python 3.7.6 64-bit ('chi': conda)"
  }
 },
 "nbformat": 4,
 "nbformat_minor": 2
}